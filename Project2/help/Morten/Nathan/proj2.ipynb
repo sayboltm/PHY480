{
 "cells": [
  {
   "cell_type": "code",
   "execution_count": 1,
   "metadata": {
    "collapsed": true
   },
   "outputs": [],
   "source": [
    "import time\n",
    "import matplotlib.pyplot as plt\n",
    "%matplotlib inline\n",
    "import numpy as np\n",
    "from scipy import linalg as la\n",
    "import pandas\n",
    "import math\n",
    "import copy\n",
    "import time"
   ]
  },
  {
   "cell_type": "markdown",
   "metadata": {},
   "source": [
    "Just to note, any sort of randomly placed number is the timing value for how long the program took to run."
   ]
  },
  {
   "cell_type": "code",
   "execution_count": 2,
   "metadata": {
    "collapsed": false
   },
   "outputs": [
    {
     "name": "stdout",
     "output_type": "stream",
     "text": [
      "[(3.0562261623224041+0j), (7.075201124214856+0j), (11.025434589877651+0j), (14.905007782815206+0j)]\n"
     ]
    }
   ],
   "source": [
    "'''\n",
    "This will intialize the kind of matrix we want to work with in our project.\n",
    "'''\n",
    "\n",
    "#define the size of the system\n",
    "n = 40\n",
    "\n",
    "#define values\n",
    "omega = 1\n",
    "\n",
    "A = np.zeros(shape=(n,n))\n",
    "V = np.zeros(n)\n",
    "\n",
    "#harmonic oscillation potential\n",
    "#rho max is 10, rho0 is 0\n",
    "p = np.linspace(0,10,n)\n",
    "for i in range(n):\n",
    "    V[i] = p[i]**2\n",
    "    \n",
    "#define step size\n",
    "h = (p[-1]- p[0])/n\n",
    "\n",
    "#create the matrix A    \n",
    "const = -1/(h**2)\n",
    "const2 = 2/(h**2)\n",
    "\n",
    "#Make Matrix A\n",
    "\n",
    "#we evaluate until n-1 so that we eliminate the issues of indexing with the endpoints\n",
    "A[0][0] = const2+V[0]\n",
    "for i in range(n-1):\n",
    "    A[i][i] = const2+V[i+1]\n",
    "    \n",
    "#index until n-2 to avoid the rox and column associated with the endpoint which we are trying to ignore\n",
    "for i in range(n-2):\n",
    "    A[i][i+1] = const\n",
    "    A[i+1][i] = const\n",
    "\n",
    "\n",
    "\n",
    "eigenvalues = la.eigvals(A)\n",
    "print(sorted(eigenvalues)[1:5])"
   ]
  },
  {
   "cell_type": "markdown",
   "metadata": {},
   "source": [
    "The above using scipy.linalg.eigvals to solve for the eigenvalues of the matrix, A. Now we need to use the Jacobi Algorithm in order to make our own eigenvalue solver. We will start with a 4$\\times$4 case first"
   ]
  },
  {
   "cell_type": "code",
   "execution_count": 3,
   "metadata": {
    "collapsed": false
   },
   "outputs": [
    {
     "name": "stdout",
     "output_type": "stream",
     "text": [
      "[[ 2 -4]\n",
      " [-4  1]]\n"
     ]
    }
   ],
   "source": [
    "#This will be our unit test for a 2x2 case to ensure that our algorithms work properly\n",
    "Matrix = np.array([[2,-4],[-4,1]])\n",
    "print(Matrix)"
   ]
  },
  {
   "cell_type": "code",
   "execution_count": 4,
   "metadata": {
    "collapsed": false
   },
   "outputs": [
    {
     "data": {
      "text/plain": [
       "array([ 5.53112887+0.j, -2.53112887+0.j])"
      ]
     },
     "execution_count": 4,
     "metadata": {},
     "output_type": "execute_result"
    }
   ],
   "source": [
    "la.eigvals(Matrix)"
   ]
  },
  {
   "cell_type": "markdown",
   "metadata": {},
   "source": [
    "Our method needs to yield the same values for our test Matrix."
   ]
  },
  {
   "cell_type": "code",
   "execution_count": 5,
   "metadata": {
    "collapsed": false
   },
   "outputs": [
    {
     "name": "stdout",
     "output_type": "stream",
     "text": [
      "[ 0.74967818  0.66180256] [-0.66180256  0.74967818]\n"
     ]
    },
    {
     "data": {
      "text/plain": [
       "0.0"
      ]
     },
     "execution_count": 5,
     "metadata": {},
     "output_type": "execute_result"
    }
   ],
   "source": [
    "#I want to see if the orthogonality is preserved after one transformation.\n",
    "x, v = la.eig(Matrix)\n",
    "print(v[0],v[1])\n",
    "np.dot(v[0],v[1])"
   ]
  },
  {
   "cell_type": "markdown",
   "metadata": {},
   "source": [
    "The dot product above shows that the eigenvectors are indeed orthogonal at the beginnning. I will test this again after the transformation."
   ]
  },
  {
   "cell_type": "code",
   "execution_count": 6,
   "metadata": {
    "collapsed": false
   },
   "outputs": [
    {
     "data": {
      "text/plain": [
       "(4, 0, 1)"
      ]
     },
     "execution_count": 6,
     "metadata": {},
     "output_type": "execute_result"
    }
   ],
   "source": [
    "val = 0\n",
    "p = 0\n",
    "q = 0\n",
    "for i in range(0,len(Matrix)):\n",
    "    for j in range(0,len(Matrix)):\n",
    "        if abs(Matrix[i][j])>=val and i!=j:\n",
    "            val = abs(Matrix[i][j])\n",
    "            p = j\n",
    "            q = i\n",
    "val, p, q #Returns the maximum value and indexing"
   ]
  },
  {
   "cell_type": "code",
   "execution_count": 7,
   "metadata": {
    "collapsed": false
   },
   "outputs": [
    {
     "data": {
      "text/plain": [
       "(0.88278221853731875, 0.74967817581586582, 0.66180256323574016)"
      ]
     },
     "execution_count": 7,
     "metadata": {},
     "output_type": "execute_result"
    }
   ],
   "source": [
    "#This will provide the values for sin, cos, and tan that we need in looping over our algorithm.\n",
    "tau = (Matrix[q][q]-Matrix[p][p])/(2*Matrix[p][q])\n",
    "tau\n",
    "if tau<0:\n",
    "    tan = 1/(-tau+math.sqrt((1+tau**2)))\n",
    "else:\n",
    "    tan = 1/(tau+math.sqrt((1+tau**2)))\n",
    "cos = (1+tan**2)**(-1/2.)\n",
    "sin = tan*cos\n",
    "tan,cos,sin"
   ]
  },
  {
   "cell_type": "code",
   "execution_count": 8,
   "metadata": {
    "collapsed": false
   },
   "outputs": [
    {
     "name": "stdout",
     "output_type": "stream",
     "text": [
      "[ 5.53112887+0.j -2.53112887+0.j]\n",
      "[[ 5.53112887  0.        ]\n",
      " [ 0.         -2.53112887]]\n"
     ]
    }
   ],
   "source": [
    "B = np.zeros((Matrix.ndim,Matrix.ndim))\n",
    "\n",
    "B[p][q] = 0\n",
    "B[q][p] = 0\n",
    "for i in range(0,Matrix.ndim):\n",
    "    if i!=p and i!=q:\n",
    "        B[i][p] = Matrix[i][p]*cos - Matrix[i][q]*sin\n",
    "        B[i][q] = Matrix[i][q]*cos + Matrix[i][q]*sin\n",
    "        B[p][i] = B[i][p]\n",
    "        B[q][i] = B[i][q]\n",
    "        \n",
    "    else:\n",
    "        B[p][p] = Matrix[p][p]*cos**2-2*Matrix[p][q]*cos*sin+Matrix[q][q]*sin**2\n",
    "        B[q][q] = Matrix[p][p]*sin**2+2*Matrix[p][q]*cos*sin+Matrix[q][q]*cos**2\n",
    "        \n",
    "print(la.eigvals(Matrix))\n",
    "print(B)"
   ]
  },
  {
   "cell_type": "code",
   "execution_count": 9,
   "metadata": {
    "collapsed": false
   },
   "outputs": [
    {
     "name": "stdout",
     "output_type": "stream",
     "text": [
      "[ 1.  0.] [ 0.  1.]\n"
     ]
    },
    {
     "data": {
      "text/plain": [
       "0.0"
      ]
     },
     "execution_count": 9,
     "metadata": {},
     "output_type": "execute_result"
    }
   ],
   "source": [
    "eval2, evecs2 = la.eig(B)\n",
    "print(evecs2[0],evecs2[1])\n",
    "np.dot(evecs2[0],evecs2[1])"
   ]
  },
  {
   "cell_type": "markdown",
   "metadata": {},
   "source": [
    "The dot product orthogonality is preserved through 1 transformation accoridng to the dot product above. Since this succeeds for this unit test of orthogonality, then I will trust this moving forward."
   ]
  },
  {
   "cell_type": "code",
   "execution_count": 10,
   "metadata": {
    "collapsed": true
   },
   "outputs": [],
   "source": [
    "'''\n",
    "This function, jacobi, is the function that we will loop over multiple times until whatever tolerance we set is met\n",
    "for the maximum off diagonal elements. The function begins by looping through the matrix, and it finds the maximum \n",
    "value and stores its index. Then, that enters into the jacobi algorithm and the function returns the matrix after\n",
    "one transformation and the maximum off diagonal value. This way, when it enters into the function for a seocnd \n",
    "iteration, we have a value to test against our tolerance and the matrix, which we run through the jacobi function once\n",
    "more. It combines the pieces from the above functions into one function.\n",
    "'''\n",
    "def jacobi(Matrix):\n",
    "    #print(Matrix)\n",
    "    val = 0.0\n",
    "    p = 0\n",
    "    q = 0\n",
    "    for i in range(0,len(Matrix[0])):\n",
    "        for j in range(i+1,len(Matrix[1])):\n",
    "            if abs(Matrix[i][j])>=val:\n",
    "                val = abs(Matrix[i][j])\n",
    "                p = i\n",
    "                q = j\n",
    "                \n",
    "    if Matrix[p][q] !=0:          \n",
    "        tau = (Matrix[q][q]-Matrix[p][p])/(2*Matrix[p][q])\n",
    "        #print(val,p,q)\n",
    "\n",
    "        if tau<0:\n",
    "            tan = -1/(-tau+math.sqrt((1+tau**2)))\n",
    "        else:\n",
    "            tan = 1/(tau+math.sqrt((1+tau**2)))\n",
    "\n",
    "        cos = 1/math.sqrt(1+tan**2)\n",
    "        sin = tan*cos\n",
    "    else:\n",
    "        cos = 1.0\n",
    "        sin = 0.0\n",
    "    \n",
    "    B = copy.copy(Matrix)\n",
    "    \n",
    "    B[p][p] = Matrix[p][p]*cos**2-2*Matrix[p][q]*cos*sin+Matrix[q][q]*sin**2\n",
    "    B[q][q] = Matrix[p][p]*sin**2+2*Matrix[p][q]*cos*sin+Matrix[q][q]*cos**2\n",
    "    B[p][q] = 0\n",
    "    B[q][p] = 0\n",
    "    \n",
    "    #print(la.eigvals(Matrix))\n",
    "    \n",
    "    for i in range(0,len(B[0])):\n",
    "        if i!=p and i!=q:\n",
    "            B[i][p] = Matrix[i][p]*cos - Matrix[i][q]*sin\n",
    "            B[i][q] = Matrix[i][q]*cos + Matrix[i][p]*sin\n",
    "            B[p][i] = B[i][p]\n",
    "            B[q][i] = B[i][q]\n",
    "            \n",
    "    return B, val"
   ]
  },
  {
   "cell_type": "code",
   "execution_count": 11,
   "metadata": {
    "collapsed": false
   },
   "outputs": [
    {
     "data": {
      "text/plain": [
       "(array([[ 5.53112887,  0.        ],\n",
       "        [ 0.        , -2.53112887]]), 4.0)"
      ]
     },
     "execution_count": 11,
     "metadata": {},
     "output_type": "execute_result"
    }
   ],
   "source": [
    "jacobi(np.array([[2.0,-4.0],[-4.0,1.0]]))"
   ]
  },
  {
   "cell_type": "code",
   "execution_count": 12,
   "metadata": {
    "collapsed": false
   },
   "outputs": [
    {
     "data": {
      "text/plain": [
       "(array([[ 3.,  2.,  1.],\n",
       "        [ 2.,  4.,  1.],\n",
       "        [ 1.,  1.,  5.]]),\n",
       " array([ 6.71447874+0.j,  1.42879858+0.j,  3.85672268+0.j]))"
      ]
     },
     "execution_count": 12,
     "metadata": {},
     "output_type": "execute_result"
    }
   ],
   "source": [
    "#Testing Function through our original matrix. Another unit test for a 3x3 case\n",
    "test3d = np.array([[3.0,2.0,1.0],[2.0,4.0,1.0],[1.0,1.0,5.0]])\n",
    "test3d, la.eigvals(test3d)"
   ]
  },
  {
   "cell_type": "code",
   "execution_count": 13,
   "metadata": {
    "collapsed": true
   },
   "outputs": [],
   "source": [
    "'''\n",
    "This is just an ancillary function that I defined. Since, in the end, we expect to get some values that are very close\n",
    "to 0, but not quite so, then I want to clean up the matrix and get rid of the matrix elements that are negligibly small\n",
    "so that we can neatly read off our eigenvalues.\n",
    "'''\n",
    "def clean(Matrix):\n",
    "    for i in range(len(Matrix[0])):\n",
    "        for j in range(len(Matrix[1])):\n",
    "            if Matrix[i][j] <= 1.0e-9:\n",
    "                Matrix[i][j] = 0\n",
    "    return Matrix"
   ]
  },
  {
   "cell_type": "code",
   "execution_count": 14,
   "metadata": {
    "collapsed": true
   },
   "outputs": [],
   "source": [
    "'''\n",
    "This takes our jacobi function and loops through it multiple times until the maximum off diagonal value is >=10^(-7).\n",
    "'''\n",
    "def jacobi_iteration(Matrix):\n",
    "    start_time = time.time()\n",
    "    A = Matrix\n",
    "    val = 1.0e-5\n",
    "    while val>=1.0e-7:\n",
    "        A, val = jacobi(A)\n",
    "    clean(A)\n",
    "    print(time.time()-start_time)\n",
    "    return A"
   ]
  },
  {
   "cell_type": "code",
   "execution_count": 15,
   "metadata": {
    "collapsed": false
   },
   "outputs": [
    {
     "name": "stdout",
     "output_type": "stream",
     "text": [
      "0.0005350112915039062\n"
     ]
    },
    {
     "data": {
      "text/plain": [
       "array([[ 1.42879858,  0.        ,  0.        ],\n",
       "       [ 0.        ,  6.71447874,  0.        ],\n",
       "       [ 0.        ,  0.        ,  3.85672268]])"
      ]
     },
     "execution_count": 15,
     "metadata": {},
     "output_type": "execute_result"
    }
   ],
   "source": [
    "#Runnning our 3D unit test matrix through this\n",
    "result = jacobi_iteration(test3d)\n",
    "clean(result)"
   ]
  },
  {
   "cell_type": "markdown",
   "metadata": {},
   "source": [
    "We get the expected eigenvalues for our test3d matrix."
   ]
  },
  {
   "cell_type": "markdown",
   "metadata": {},
   "source": [
    "I want to confirm that orthogonolaity is preserved throughout."
   ]
  },
  {
   "cell_type": "code",
   "execution_count": 16,
   "metadata": {
    "collapsed": false
   },
   "outputs": [],
   "source": [
    "'''\n",
    "This will be a unit test for the 3x3 case. I have updated my iteration function to include an argument for the eigen-\n",
    "vectors that will do the dot products between the various eigenvectors. If the values of the dot product are reasonably\n",
    "close to approximately 0, then I can consider these to be orthogonal. This will show that orthogonality is preserved \n",
    "throughout this transformation. \n",
    "'''\n",
    "def jacobi_iteration_ortho(Matrix):\n",
    "    start_time = time.time()\n",
    "    A = Matrix\n",
    "    val = 1.0e-5\n",
    "    i=0\n",
    "    while val>=1.0e-7:\n",
    "        A, val = jacobi(A)\n",
    "        values, vectors = la.eig(A)\n",
    "        i+=1\n",
    "        if i%5==0:\n",
    "            values, vectors = la.eig(A)\n",
    "            print(np.dot(vectors[0],vectors[1]))\n",
    "            print(np.dot(vectors[1],vectors[2]))\n",
    "            print(np.dot(vectors[0],vectors[2]))\n",
    "                \n",
    "    clean(A)\n",
    "    print(time.time()-start_time)\n",
    "    return A"
   ]
  },
  {
   "cell_type": "code",
   "execution_count": 17,
   "metadata": {
    "collapsed": false
   },
   "outputs": [
    {
     "name": "stdout",
     "output_type": "stream",
     "text": [
      "5.92446966816e-21\n",
      "-1.13128574344e-16\n",
      "3.38813178902e-20\n",
      "0.002872943878173828\n"
     ]
    },
    {
     "data": {
      "text/plain": [
       "array([[ 1.42879858,  0.        ,  0.        ],\n",
       "       [ 0.        ,  6.71447874,  0.        ],\n",
       "       [ 0.        ,  0.        ,  3.85672268]])"
      ]
     },
     "execution_count": 17,
     "metadata": {},
     "output_type": "execute_result"
    }
   ],
   "source": [
    "jacobi_iteration_ortho(test3d)"
   ]
  },
  {
   "cell_type": "markdown",
   "metadata": {},
   "source": [
    "The values printed in the above cells along with the diagonal matrix are the dot products of the eigenvectors of the matrix as the transformations are being applied. The dot products show that the orthogonality is preserved across multiple transformations. This unit test proves that our algorithm preserves orthogonality. Since this unit test passes for the 3 $\\times$ 3 case, then I can trust my algorithm to do so in larger size matrices with more repetitions of the algorithm."
   ]
  },
  {
   "cell_type": "code",
   "execution_count": 18,
   "metadata": {
    "collapsed": false
   },
   "outputs": [
    {
     "data": {
      "text/plain": [
       "array([ 1.38196601+0.j,  3.61803399+0.j,  4.00000000+0.j])"
      ]
     },
     "execution_count": 18,
     "metadata": {},
     "output_type": "execute_result"
    }
   ],
   "source": [
    "#For safety sake, I will do another test.\n",
    "testnumber2 = np.array([[2.0,1.0,0.0],[1.0,3.0,0.0],[0.0,0.0,4.0]])\n",
    "la.eigvals(testnumber2)"
   ]
  },
  {
   "cell_type": "code",
   "execution_count": 19,
   "metadata": {
    "collapsed": false
   },
   "outputs": [
    {
     "name": "stdout",
     "output_type": "stream",
     "text": [
      "0.00022792816162109375\n"
     ]
    },
    {
     "data": {
      "text/plain": [
       "array([[ 1.38196601,  0.        ,  0.        ],\n",
       "       [ 0.        ,  3.61803399,  0.        ],\n",
       "       [ 0.        ,  0.        ,  4.        ]])"
      ]
     },
     "execution_count": 19,
     "metadata": {},
     "output_type": "execute_result"
    }
   ],
   "source": [
    "jacobi_iteration(testnumber2)"
   ]
  },
  {
   "cell_type": "code",
   "execution_count": 20,
   "metadata": {
    "collapsed": false
   },
   "outputs": [
    {
     "name": "stdout",
     "output_type": "stream",
     "text": [
      "1.0233049392700195\n"
     ]
    }
   ],
   "source": [
    "'''\n",
    "harmonic is the matrix we created in the very beginning of our python notebook. It will make the matrix which has\n",
    "-1 on the off diagonals and 2+V[i] on the diagonals. The potential for this matrix is the potential in a harmonic\n",
    "oscialltor potential.\n",
    "'''\n",
    "harmonic = jacobi_iteration(A)\n",
    "testdiags = []\n",
    "for i in range(len(harmonic)):\n",
    "    testdiags.append(harmonic[i][i])      "
   ]
  },
  {
   "cell_type": "code",
   "execution_count": 21,
   "metadata": {
    "collapsed": false
   },
   "outputs": [
    {
     "data": {
      "text/plain": [
       "[3.0562261623224143,\n",
       " 7.0752011242148791,\n",
       " 11.025434589877747,\n",
       " 14.905007782815277]"
      ]
     },
     "execution_count": 21,
     "metadata": {},
     "output_type": "execute_result"
    }
   ],
   "source": [
    "sorted(testdiags)[1:5]"
   ]
  },
  {
   "cell_type": "code",
   "execution_count": 22,
   "metadata": {
    "collapsed": false
   },
   "outputs": [
    {
     "data": {
      "text/plain": [
       "array([   3.05622616+0.j,    7.07520112+0.j,   11.02543459+0.j,\n",
       "         14.90500778+0.j,   18.71181322+0.j,   22.44352205+0.j,\n",
       "         26.09754298+0.j,   29.67096982+0.j,   33.16051320+0.j,\n",
       "         36.56240995+0.j,   39.87229963+0.j,   43.08505152+0.j,\n",
       "         46.19451319+0.j,   49.19312869+0.j,   52.07132476+0.j,\n",
       "         54.81644692+0.j,   57.41071834+0.j,   59.82706045+0.j,\n",
       "         62.02674008+0.j,   64.02273028+0.j,   66.03428517+0.j,\n",
       "         68.27912989+0.j,   70.77267310+0.j,   73.48105039+0.j,\n",
       "         76.38132773+0.j,   79.45923248+0.j,   82.70537658+0.j,\n",
       "         86.11405774+0.j,   89.68486488+0.j,   93.42938120+0.j,\n",
       "         97.38425773+0.j,  101.62192739+0.j,  106.24361197+0.j,\n",
       "        111.36203536+0.j,  117.10106954+0.j,  123.62187797+0.j,\n",
       "        131.17874510+0.j,  152.08908137+0.j,  140.25471007+0.j,\n",
       "          0.00000000+0.j])"
      ]
     },
     "execution_count": 22,
     "metadata": {},
     "output_type": "execute_result"
    }
   ],
   "source": [
    "la.eigvals(A)"
   ]
  },
  {
   "cell_type": "markdown",
   "metadata": {},
   "source": [
    "Thus, we have created an eigenvalue solver for the harmonic oscillator potential!"
   ]
  },
  {
   "cell_type": "code",
   "execution_count": 23,
   "metadata": {
    "collapsed": false
   },
   "outputs": [],
   "source": [
    "#This cell will create the array for the 2 electron case. This is a unit test for the kinds of matrices we get when\n",
    "#there is interaction between the two electrons.\n",
    "\n",
    "#define the size of the system\n",
    "n=40\n",
    "\n",
    "#define values\n",
    "omega=0.25\n",
    "\n",
    "twoelec = np.zeros(shape=(n,n))\n",
    "V = np.zeros(n)\n",
    "\n",
    "#harmonic oscillation potential\n",
    "#rho max is 10, rho0 is 0\n",
    "p = np.linspace(0,40,n)\n",
    "for i in range(n):\n",
    "    V[i] = omega**2*p[i]**2+1/p[i]\n",
    "\n",
    "#define step size\n",
    "h = (p[-1]- p[0])/n\n",
    "\n",
    "#create the matrix A    \n",
    "const = -1/(h**2)\n",
    "const2 = 2/(h**2)\n",
    "\n",
    "#Make Matrix A\n",
    "\n",
    "#we evaluate until n-1 so that we eliminate the issues of indexing with the endpoints\n",
    "twoelec[0][0] = const2+V[0]\n",
    "for i in range(n-1):\n",
    "    twoelec[i][i] = const2+V[i+1]\n",
    "\n",
    "#index until n-2 to avoid the rox and column associated with the endpoint which we are trying to ignore\n",
    "for i in range(n-2):\n",
    "    twoelec[i][i+1] = const\n",
    "    twoelec[i+1][i] = const"
   ]
  },
  {
   "cell_type": "code",
   "execution_count": 24,
   "metadata": {
    "collapsed": false
   },
   "outputs": [
    {
     "data": {
      "text/plain": [
       "array([  0.62181583+0.j,   1.06526775+0.j,   1.47963271+0.j,\n",
       "         1.85087367+0.j,   2.14990337+0.j,   2.40874635+0.j,\n",
       "         2.77068912+0.j,   3.22976528+0.j,   3.76667366+0.j,\n",
       "         4.37568805+0.j,   5.05435585+0.j,   5.80137175+0.j,\n",
       "         6.61596051+0.j,   7.49762833+0.j,   8.44604449+0.j,\n",
       "         9.46097880+0.j,  10.54226605+0.j,  11.68978461+0.j,\n",
       "        12.90344296+0.j,  14.18317098+0.j,  15.52891409+0.j,\n",
       "        16.94062916+0.j,  18.41828171+0.j,  19.96184385+0.j,\n",
       "        21.57129279+0.j,  23.24660973+0.j,  24.98777904+0.j,\n",
       "        26.79478762+0.j,  28.66762441+0.j,  30.60628002+0.j,\n",
       "        32.61074643+0.j,  34.68101672+0.j,  36.81708493+0.j,\n",
       "        39.01894590+0.j,  41.28659509+0.j,  43.62002860+0.j,\n",
       "        46.01925596+0.j,  48.48604367+0.j,  51.10945762+0.j,\n",
       "         0.00000000+0.j])"
      ]
     },
     "execution_count": 24,
     "metadata": {},
     "output_type": "execute_result"
    }
   ],
   "source": [
    "la.eigvals(twoelec)/2"
   ]
  },
  {
   "cell_type": "markdown",
   "metadata": {},
   "source": [
    "Our eigenvalues are off by a factor of two. This tells me that, while my eigenvalues are very close to the analytic solutions, I need to adjust my rhomax values in order to account for the varying values of omega."
   ]
  },
  {
   "cell_type": "code",
   "execution_count": 25,
   "metadata": {
    "collapsed": false
   },
   "outputs": [
    {
     "name": "stdout",
     "output_type": "stream",
     "text": [
      "0.3755829334259033\n"
     ]
    },
    {
     "data": {
      "text/plain": [
       "[0.62181583070179447,\n",
       " 1.0652677454118185,\n",
       " 1.4796327091107075,\n",
       " 1.8508736665671786]"
      ]
     },
     "execution_count": 25,
     "metadata": {},
     "output_type": "execute_result"
    }
   ],
   "source": [
    "#frequency of 0.25\n",
    "twoe = jacobi_iteration(twoelec)\n",
    "testdiagselec = []\n",
    "for i in range(len(twoe)):\n",
    "    testdiagselec.append(twoe[i][i]/2) \n",
    "sorted(testdiagselec)[1:5]"
   ]
  },
  {
   "cell_type": "code",
   "execution_count": 26,
   "metadata": {
    "collapsed": true
   },
   "outputs": [],
   "source": [
    "#Now I can set up potential matrices much faster in the future for two electrons interacting in a harmonic\n",
    "#oscillator potential experiencing electrostatic repulsion\n",
    "def interaction_matrix(n, omega, rhomax):\n",
    "    #This cell will create the array for the 2 electron case\n",
    "\n",
    "    #define the size of the system\n",
    "    #n=40\n",
    "\n",
    "    #define values\n",
    "    #omega=0.25\n",
    "\n",
    "    matrix = np.zeros(shape=(n,n))\n",
    "    V = np.zeros(n)\n",
    "\n",
    "    #harmonic oscillation potential\n",
    "    #rho max is 10, rho0 is 0\n",
    "    p = np.linspace(0,rhomax,n)\n",
    "    for i in range(n):\n",
    "        V[i] = omega**2*p[i]**2+1/p[i]\n",
    "\n",
    "    #define step size\n",
    "    h = (p[-1]- p[0])/n\n",
    "\n",
    "    #create the matrix A    \n",
    "    const = -1/(h**2)\n",
    "    const2 = 2/(h**2)\n",
    "\n",
    "    #Make Matrix A\n",
    "\n",
    "    #we evaluate until n-1 so that we eliminate the issues of indexing with the endpoints\n",
    "    matrix[0][0] = const2+V[0]\n",
    "    for i in range(n-1):\n",
    "        matrix[i][i] = const2+V[i+1]\n",
    "\n",
    "    #index until n-2 to avoid the rox and column associated with the endpoint which we are trying to ignore\n",
    "    for i in range(n-2):\n",
    "        matrix[i][i+1] = const\n",
    "        matrix[i+1][i] = const\n",
    "    return matrix"
   ]
  },
  {
   "cell_type": "code",
   "execution_count": 27,
   "metadata": {
    "collapsed": true
   },
   "outputs": [],
   "source": [
    "#Defined to make things easier to compare in the future. It will return my solved eigenvaues, and the expected values\n",
    "#as calculated by the linalg library functionality. \n",
    "def compare(matrix):\n",
    "    expected = la.eigvals(matrix)\n",
    "    array = jacobi_iteration(matrix)\n",
    "    diags = []\n",
    "    for i in range(len(array[0])):\n",
    "        diags.append(array[i][i])\n",
    "    return sorted(diags)[1:5], expected[:5]  "
   ]
  },
  {
   "cell_type": "code",
   "execution_count": 28,
   "metadata": {
    "collapsed": false
   },
   "outputs": [
    {
     "name": "stdout",
     "output_type": "stream",
     "text": [
      "1.0423920154571533\n"
     ]
    },
    {
     "data": {
      "text/plain": [
       "([4.1020689176256733,\n",
       "  7.9784216514480439,\n",
       "  11.844207893208674,\n",
       "  15.666625238869045],\n",
       " array([  4.10206892+0.j,   7.97842165+0.j,  11.84420789+0.j,\n",
       "         15.66662524+0.j,  19.43180805+0.j]))"
      ]
     },
     "execution_count": 28,
     "metadata": {},
     "output_type": "execute_result"
    }
   ],
   "source": [
    "#Just to test functions using same coulombic case as above\n",
    "func_test = interaction_matrix(40,1,10)\n",
    "compare(func_test)"
   ]
  },
  {
   "cell_type": "markdown",
   "metadata": {},
   "source": [
    "I now have a function that will allow me to compare multiple potentials! And see the results of my eigenvalue solver."
   ]
  },
  {
   "cell_type": "code",
   "execution_count": 29,
   "metadata": {
    "collapsed": false
   },
   "outputs": [
    {
     "name": "stdout",
     "output_type": "stream",
     "text": [
      "0.37119507789611816\n"
     ]
    },
    {
     "data": {
      "text/plain": [
       "([1.2436316614035889,\n",
       "  2.1305354908236369,\n",
       "  2.9592654182214151,\n",
       "  3.7017473331343571],\n",
       " array([ 1.24363166+0.j,  2.13053549+0.j,  2.95926542+0.j,  3.70174733+0.j,\n",
       "         4.29980673+0.j]))"
      ]
     },
     "execution_count": 29,
     "metadata": {},
     "output_type": "execute_result"
    }
   ],
   "source": [
    "'''\n",
    "I want to run a comparison between my eigenvalue solver and the analytic solution that Taut arrived at. With \n",
    "omega = 0.25, and the first slved eigenvalue (ground state) e' = 0.6250.\n",
    "'''\n",
    "\n",
    "analytic_comp = interaction_matrix(40, 0.25, 10/0.25)\n",
    "compare(analytic_comp)"
   ]
  },
  {
   "cell_type": "code",
   "execution_count": 30,
   "metadata": {
    "collapsed": false
   },
   "outputs": [
    {
     "data": {
      "text/plain": [
       "[0.62181583070179447,\n",
       " 1.0652677454118185,\n",
       " 1.4796327091107075,\n",
       " 1.8508736665671786]"
      ]
     },
     "execution_count": 30,
     "metadata": {},
     "output_type": "execute_result"
    }
   ],
   "source": [
    "results = []\n",
    "for i in range(len(analytic_comp)):\n",
    "    results.append(twoe[i][i]/2) \n",
    "sorted(results)[1:5]"
   ]
  },
  {
   "cell_type": "code",
   "execution_count": 31,
   "metadata": {
    "collapsed": false
   },
   "outputs": [
    {
     "data": {
      "text/plain": [
       "0.50946708771288485"
      ]
     },
     "execution_count": 31,
     "metadata": {},
     "output_type": "execute_result"
    }
   ],
   "source": [
    "abs(results[1]-0.6250)/(0.6250)*100"
   ]
  },
  {
   "cell_type": "markdown",
   "metadata": {},
   "source": [
    "This shows that my eigenvalue solver yields a ground state energy within 0.5% of the expected analytic result proposed by Taut. $\\omega = 0.25$. I adjusted my $\\rho_{max}$ by dividing by the value of omega that I chose. The results gave the low percent difference displayed above."
   ]
  },
  {
   "cell_type": "code",
   "execution_count": 32,
   "metadata": {
    "collapsed": false
   },
   "outputs": [
    {
     "name": "stdout",
     "output_type": "stream",
     "text": [
      "0.38356781005859375\n"
     ]
    },
    {
     "data": {
      "text/plain": [
       "array([[   2.95926542,    0.        ,    0.        , ...,    0.        ,\n",
       "           0.        ,    0.        ],\n",
       "       [   0.        ,    1.24363166,    0.        , ...,    0.        ,\n",
       "           0.        ,    0.        ],\n",
       "       [   0.        ,    0.        ,    4.29980673, ...,    0.        ,\n",
       "           0.        ,    0.        ],\n",
       "       ..., \n",
       "       [   0.        ,    0.        ,    0.        , ...,   96.97208735,\n",
       "           0.        ,    0.        ],\n",
       "       [   0.        ,    0.        ,    0.        , ...,    0.        ,\n",
       "         102.21891523,    0.        ],\n",
       "       [   0.        ,    0.        ,    0.        , ...,    0.        ,\n",
       "           0.        ,    0.        ]])"
      ]
     },
     "execution_count": 32,
     "metadata": {},
     "output_type": "execute_result"
    }
   ],
   "source": [
    "jacobi_iteration(analytic_comp)"
   ]
  },
  {
   "cell_type": "code",
   "execution_count": 33,
   "metadata": {
    "collapsed": false
   },
   "outputs": [
    {
     "name": "stdout",
     "output_type": "stream",
     "text": [
      "-8.32667268469e-17\n",
      "-1.17267306976e-15\n",
      "-1.11022302463e-16\n",
      "2.22044604925e-16\n",
      "-9.02056207508e-16\n",
      "5.55111512313e-16\n",
      "1.13797860024e-15\n",
      "-1.12410081243e-15\n",
      "1.27675647832e-15\n",
      "1.66533453694e-16\n",
      "0.0\n",
      "-2.22044604925e-16\n",
      "2.05391259556e-15\n",
      "1.76247905159e-15\n",
      "-1.97064586871e-15\n",
      "6.10622663544e-16\n",
      "1.12410081243e-15\n",
      "3.60822483003e-16\n",
      "2.91433543964e-16\n",
      "-5.89805981832e-17\n",
      "6.10622663544e-16\n",
      "-3.60822483003e-16\n",
      "-9.02056207508e-17\n",
      "0.0\n",
      "-1.80411241502e-16\n",
      "-9.02056207508e-16\n",
      "2.15105711021e-16\n",
      "4.57966997658e-16\n",
      "7.04297731247e-16\n",
      "-1.51788304148e-16\n",
      "-6.80011602583e-16\n",
      "-4.10695782938e-16\n",
      "2.79290479632e-16\n",
      "4.16333634234e-17\n",
      "-3.05311331772e-16\n",
      "1.70002900646e-16\n",
      "-5.9067334357e-16\n",
      "-5.03069808033e-16\n",
      "6.93889390391e-18\n",
      "-9.59302082215e-16\n",
      "-2.82759926584e-16\n",
      "-4.51028103754e-17\n",
      "-7.1123662515e-17\n",
      "6.76542155631e-17\n",
      "-1.11022302463e-16\n",
      "-6.40980324373e-16\n",
      "-4.51028103754e-16\n",
      "-1.47451495458e-16\n",
      "-5.47305256671e-16\n",
      "-8.72565908416e-16\n",
      "1.4658413372e-16\n",
      "6.61797006085e-16\n",
      "-4.92661467177e-16\n",
      "2.60208521397e-18\n",
      "8.23993651089e-17\n",
      "-2.58473797921e-16\n",
      "-2.21177243187e-16\n",
      "7.89299181569e-16\n",
      "3.61364584089e-16\n",
      "-7.7195194681e-17\n",
      "-3.95516952523e-16\n",
      "-3.48028897368e-16\n",
      "1.17961196366e-16\n",
      "9.87925019569e-16\n",
      "1.95698492134e-16\n",
      "2.22911966663e-16\n",
      "-2.27248775353e-16\n",
      "-1.41705223944e-16\n",
      "-9.54097911787e-18\n",
      "-8.50014503229e-17\n",
      "8.20741044572e-17\n",
      "-2.16840434497e-16\n",
      "-1.2420620088e-15\n",
      "5.57279916658e-17\n",
      "5.37764277553e-17\n",
      "-2.15973072759e-16\n",
      "1.99818460389e-16\n",
      "5.20417042793e-17\n",
      "-2.81892564846e-16\n",
      "2.9869769852e-16\n",
      "4.33680868994e-18\n",
      "9.67108337857e-16\n",
      "-6.38120741143e-16\n",
      "1.90819582357e-17\n",
      "-2.14672030152e-15\n",
      "-4.07673569382e-16\n",
      "-6.93889390391e-18\n",
      "-1.67400815432e-16\n",
      "-1.06821019044e-16\n",
      "4.07660016855e-17\n",
      "-2.07299455379e-16\n",
      "-4.77645267088e-16\n",
      "-6.93889390391e-17\n",
      "-1.98625837999e-16\n",
      "-3.74083630825e-16\n",
      "0.0\n",
      "9.76649316975e-16\n",
      "-4.29027269982e-16\n",
      "-2.08166817117e-17\n",
      "-3.98986399475e-16\n",
      "8.65355963969e-16\n",
      "1.56125112838e-17\n",
      "-1.44849410244e-16\n",
      "4.06677458636e-16\n",
      "-4.85722573274e-17\n",
      "1.18828558104e-16\n",
      "1.43284093358e-16\n",
      "3.20923843056e-17\n",
      "-5.58580959265e-16\n",
      "3.09329656074e-16\n",
      "5.63785129692e-17\n",
      "-1.56125112838e-16\n",
      "-5.79644974597e-16\n",
      "-3.55618312575e-17\n",
      "-5.24753851483e-16\n",
      "-4.45542718388e-16\n",
      "-1.56125112838e-17\n",
      "-7.00828284295e-16\n",
      "-1.01355284842e-15\n",
      "-1.82145964978e-17\n",
      "-1.5092094241e-16\n",
      "-2.42861286637e-16\n",
      "-3.46944695195e-18\n",
      "-4.62303806348e-16\n",
      "6.37199169297e-16\n",
      "1.90819582357e-17\n",
      "-1.03562991516e-15\n",
      "8.35242248629e-16\n",
      "-1.82145964978e-17\n",
      "4.56232274182e-16\n",
      "3.33056742992e-16\n",
      "-4.33680868994e-18\n",
      "-8.87311057962e-16\n",
      "4.86603487539e-17\n",
      "4.33680868994e-18\n",
      "-3.55860140482e-16\n",
      "-1.82535811892e-15\n",
      "3.20923843056e-17\n",
      "-3.66153708373e-16\n",
      "-1.02990227837e-15\n",
      "3.20923843056e-17\n",
      "-1.39374189273e-16\n",
      "-4.09994270251e-15\n",
      "1.64798730218e-17\n",
      "-9.17218097264e-17\n",
      "-7.05490353636e-16\n",
      "-1.22480964173e-18\n",
      "2.92149879728e-15\n",
      "-1.11060842462e-15\n",
      "4.14707330976e-18\n",
      "2.11075782368e-15\n",
      "-1.00392335436e-15\n",
      "-1.42470941728e-18\n",
      "1.59277642413e-15\n",
      "-5.01153819507e-16\n",
      "-5.6751207466e-19\n",
      "-2.22169118768e-15\n",
      "-6.13707841261e-16\n",
      "-4.67562186884e-19\n",
      "-4.33648681742e-16\n",
      "-1.85946881647e-15\n",
      "3.46436475427e-18\n",
      "-1.4396595488e-17\n",
      "-1.45167353201e-15\n",
      "2.77826806699e-19\n",
      "1.846274327e-15\n",
      "1.23495719032e-15\n",
      "5.5531480022e-18\n",
      "9.55204983849e-16\n",
      "-8.80045088986e-16\n",
      "7.62329652529e-21\n",
      "9.33719407498e-17\n",
      "5.74085050331e-16\n",
      "-7.84776025631e-18\n",
      "1.6339183033e-15\n",
      "2.99673480475e-16\n",
      "5.75982404133e-20\n",
      "-5.83131982593e-17\n",
      "-5.2052546301e-16\n",
      "2.8070671872e-18\n",
      "-7.05259992935e-16\n",
      "-3.90583832638e-16\n",
      "-4.17587242996e-19\n",
      "-2.93352412403e-15\n",
      "5.07677667266e-16\n",
      "2.03740830085e-18\n",
      "-2.80666569358e-15\n",
      "4.50919683537e-16\n",
      "-1.48768639963e-18\n",
      "-1.41472120477e-15\n",
      "-5.6602645828e-19\n",
      "1.31072062015e-18\n",
      "1.1116545192e-15\n",
      "-6.01748813862e-16\n",
      "-5.03864352235e-19\n",
      "4.67781568418e-16\n",
      "1.02283242385e-15\n",
      "-1.19431645563e-19\n",
      "-3.07154475465e-16\n",
      "2.28643830397e-16\n",
      "2.10911203866e-19\n",
      "8.87347605283e-16\n",
      "-3.4603974058e-16\n",
      "-3.09067247086e-19\n",
      "2.92838142139e-16\n",
      "4.56732686399e-16\n",
      "2.61208127808e-20\n",
      "2.28091818395e-16\n",
      "-1.10345183994e-16\n",
      "3.25058716279e-19\n",
      "1.11300466025e-15\n",
      "1.13617932773e-16\n",
      "8.17236273078e-19\n",
      "-7.75505918489e-16\n",
      "-7.11927762263e-16\n",
      "2.1246000909e-19\n",
      "1.65224452213e-16\n",
      "-4.400403783e-17\n",
      "2.73837443852e-19\n",
      "-1.91595533346e-15\n",
      "-1.05776394238e-15\n",
      "1.89134084503e-19\n",
      "1.11223300214e-15\n",
      "-1.01511050855e-16\n",
      "5.97800068271e-19\n",
      "2.58739602898e-16\n",
      "-3.19540224138e-16\n",
      "-4.18406358598e-19\n",
      "1.88090690348e-15\n",
      "8.29326759669e-16\n",
      "-3.1712155641e-19\n",
      "-7.75311513816e-16\n",
      "1.13186494804e-16\n",
      "1.88888347238e-19\n",
      "2.79234416245e-16\n",
      "-7.0986092453e-17\n",
      "-6.26804380968e-19\n",
      "-1.44989492711e-15\n",
      "-1.45208158476e-16\n",
      "-3.04931861012e-20\n",
      "1.65397768498e-15\n",
      "-3.24385898322e-16\n",
      "1.94817577868e-19\n",
      "-3.51520834048e-15\n",
      "-1.07765553425e-16\n",
      "4.61632956254e-19\n",
      "1.09863279358e-15\n",
      "-3.37767215282e-16\n",
      "-1.6864100956e-19\n",
      "-1.31799971697e-15\n",
      "2.63004290964e-16\n",
      "4.12718939356e-19\n",
      "3.71577168947e-15\n",
      "4.25123029196e-16\n",
      "1.71790410885e-19\n",
      "-8.07301111664e-16\n",
      "-3.62275258977e-16\n",
      "3.02049847435e-21\n",
      "-2.49842685565e-15\n",
      "2.91297025457e-16\n",
      "-1.05577181327e-20\n",
      "4.19396626218e-16\n",
      "1.31494072285e-16\n",
      "-3.82930181557e-19\n",
      "-1.36633863461e-15\n",
      "-4.80573288609e-17\n",
      "4.12507814429e-20\n",
      "-1.77217967233e-15\n",
      "3.53289766198e-16\n",
      "2.19994655119e-19\n",
      "-1.38850262759e-15\n",
      "9.3397903458e-17\n",
      "5.14891808789e-19\n",
      "-3.60393049293e-15\n",
      "2.09547059533e-16\n",
      "-5.73852402746e-19\n",
      "2.22202768088e-16\n",
      "1.02606657217e-15\n",
      "-3.05865402187e-19\n",
      "-7.03577761022e-16\n",
      "7.65047338926e-16\n",
      "-1.59908715865e-19\n",
      "-2.31250687399e-15\n",
      "4.31810886285e-16\n",
      "-1.91990804447e-19\n",
      "2.20209931561e-15\n",
      "-3.5144228155e-16\n",
      "4.15046144155e-20\n",
      "1.13534771591e-15\n",
      "-1.01751322408e-15\n",
      "-4.48927462045e-20\n",
      "-9.35135385197e-16\n",
      "1.01199967285e-16\n",
      "-5.50571415715e-20\n",
      "-1.62833529077e-15\n",
      "-1.48649345258e-15\n",
      "-6.18334051496e-20\n",
      "-2.9303045518e-15\n",
      "-3.04607191565e-16\n",
      "5.84452733605e-20\n",
      "8.95650943347e-16\n",
      "4.5778738366e-16\n",
      "-7.28448334639e-20\n",
      "-2.0678949893e-15\n",
      "7.36062264171e-16\n",
      "3.64224167319e-20\n",
      "2.77558969973e-16\n",
      "7.30305156591e-16\n",
      "3.64224167319e-20\n",
      "-5.43994547798e-16\n",
      "8.98188906534e-17\n",
      "-2.03287907341e-20\n",
      "-1.23144204638e-15\n",
      "1.72952745824e-16\n",
      "1.21125711457e-19\n",
      "1.30264095815e-15\n",
      "-4.24395964789e-16\n",
      "-5.92923063078e-21\n",
      "-1.57472064631e-15\n",
      "-1.00557044288e-15\n",
      "8.63973606199e-20\n",
      "-8.51379073307e-16\n",
      "7.42732716989e-16\n",
      "-1.01643953671e-20\n",
      "-6.56760548181e-16\n",
      "1.32228106085e-15\n",
      "9.40206571452e-20\n",
      "-2.27966805182e-15\n",
      "7.03859958079e-16\n",
      "4.06575814682e-20\n",
      "-5.70476689976e-17\n",
      "-1.76208668611e-15\n",
      "-8.63973606199e-20\n",
      "8.19066460435e-16\n",
      "-1.92374462889e-15\n",
      "6.09863722023e-20\n",
      "2.31562296069e-20\n",
      "-1.98509972111e-17\n",
      "1.97849912785e-21\n",
      "-2.34972353873e-19\n",
      "-1.81709554413e-16\n",
      "-4.13676462509e-22\n",
      "-4.31966993163e-20\n",
      "-1.61654976563e-15\n",
      "4.86594281541e-22\n",
      "1.1556962399e-20\n",
      "-2.39441242708e-15\n",
      "-1.57904632713e-22\n",
      "8.32623013857e-20\n",
      "-4.53935944878e-16\n",
      "1.15294321616e-21\n",
      "1.08078217439e-20\n",
      "-2.0870659319e-15\n",
      "-3.19725658956e-22\n",
      "1.48087378034e-20\n",
      "1.34030590935e-15\n",
      "8.25088126166e-22\n",
      "-1.56563747048e-20\n",
      "-1.2595904292e-15\n",
      "1.33038446138e-21\n",
      "1.16256615906e-20\n",
      "-3.8647563493e-16\n",
      "-4.02710737832e-22\n",
      "2.09922901626e-19\n",
      "-6.09902560606e-16\n",
      "-3.42064149161e-22\n",
      "-3.05105488603e-20\n",
      "1.51001646492e-15\n",
      "7.98683012352e-22\n",
      "-1.19427492816e-20\n",
      "-4.19559499657e-16\n",
      "-4.03396771877e-23\n",
      "-9.76199319244e-21\n",
      "1.76495155731e-15\n",
      "3.56746125406e-23\n",
      "-2.6706382189e-20\n",
      "3.2303418473e-16\n",
      "2.42682446326e-22\n",
      "-5.33595278265e-21\n",
      "5.90038323631e-16\n",
      "-1.0972111714e-22\n",
      "1.28231191865e-20\n",
      "-4.54575352006e-16\n",
      "-2.2224337838e-22\n",
      "5.56782609366e-20\n",
      "-2.02010796622e-15\n",
      "8.08527523133e-24\n",
      "7.70268230113e-20\n",
      "4.87424321942e-16\n",
      "-7.9920672133e-23\n",
      "-8.16527154134e-20\n",
      "5.00766275283e-16\n",
      "6.18669213629e-23\n",
      "3.08736762772e-20\n",
      "1.39831956581e-15\n",
      "-6.36178517846e-23\n",
      "8.90549042675e-20\n",
      "-1.10469895453e-15\n",
      "2.20555260219e-22\n",
      "1.29433888501e-19\n",
      "-8.10365566732e-16\n",
      "2.47697906618e-23\n",
      "2.80309026819e-19\n",
      "-6.37723252797e-16\n",
      "2.24625933951e-23\n",
      "-6.59500519851e-20\n",
      "-5.33385754152e-16\n",
      "1.64757840972e-22\n",
      "3.03125491276e-20\n",
      "-3.89756687537e-16\n",
      "8.84540897782e-23\n",
      "-8.36465386195e-20\n",
      "6.49801655625e-16\n",
      "2.04698625909e-22\n",
      "-1.92212106456e-19\n",
      "-1.05944862453e-15\n",
      "1.40450884469e-22\n",
      "-3.07288888116e-19\n",
      "-4.20684123993e-16\n",
      "2.89227583637e-23\n",
      "2.09063031552e-19\n",
      "1.02843381866e-16\n",
      "-2.45437851679e-23\n",
      "-2.1261708354e-19\n",
      "-5.65499784636e-16\n",
      "-3.53868739477e-23\n",
      "-8.60107169439e-21\n",
      "-1.86223430906e-15\n",
      "-5.32555705711e-23\n",
      "8.04469394182e-21\n",
      "-6.07839344865e-16\n",
      "5.35401978966e-23\n",
      "0.9779798984527588\n"
     ]
    },
    {
     "data": {
      "text/plain": [
       "array([[   2.95926542,    0.        ,    0.        , ...,    0.        ,\n",
       "           0.        ,    0.        ],\n",
       "       [   0.        ,    1.24363166,    0.        , ...,    0.        ,\n",
       "           0.        ,    0.        ],\n",
       "       [   0.        ,    0.        ,    4.29980673, ...,    0.        ,\n",
       "           0.        ,    0.        ],\n",
       "       ..., \n",
       "       [   0.        ,    0.        ,    0.        , ...,   96.97208735,\n",
       "           0.        ,    0.        ],\n",
       "       [   0.        ,    0.        ,    0.        , ...,    0.        ,\n",
       "         102.21891523,    0.        ],\n",
       "       [   0.        ,    0.        ,    0.        , ...,    0.        ,\n",
       "           0.        ,    0.        ]])"
      ]
     },
     "execution_count": 33,
     "metadata": {},
     "output_type": "execute_result"
    }
   ],
   "source": [
    "jacobi_iteration_ortho(analytic_comp)"
   ]
  },
  {
   "cell_type": "markdown",
   "metadata": {},
   "source": [
    "Testing the preservation of orthogonality with the matrix we used to do the analytic comparison, we see that the orhtogonality is preserved across multiple transformation as the inner product between the vectors of the matrix remains $\\approx$0. Tested every 5 iterations."
   ]
  },
  {
   "cell_type": "code",
   "execution_count": 34,
   "metadata": {
    "collapsed": false
   },
   "outputs": [
    {
     "name": "stdout",
     "output_type": "stream",
     "text": [
      "0.087493896484375\n"
     ]
    },
    {
     "data": {
      "text/plain": [
       "([0.32624366347803013,\n",
       "  0.44957225459292482,\n",
       "  0.73852638171662577,\n",
       "  1.181544786516008],\n",
       " array([ 0.32624366+0.j,  0.44957225+0.j,  0.73852638+0.j,  1.18154479+0.j,\n",
       "         1.76317250+0.j]))"
      ]
     },
     "execution_count": 34,
     "metadata": {},
     "output_type": "execute_result"
    }
   ],
   "source": [
    "omegapto5 = interaction_matrix(40,0.05,10/(0.05))\n",
    "compare(omegapto5)"
   ]
  },
  {
   "cell_type": "code",
   "execution_count": 35,
   "metadata": {
    "collapsed": false
   },
   "outputs": [
    {
     "data": {
      "text/plain": [
       "0.16312183173901507"
      ]
     },
     "execution_count": 35,
     "metadata": {},
     "output_type": "execute_result"
    }
   ],
   "source": [
    "0.32624366347803013/2"
   ]
  },
  {
   "cell_type": "markdown",
   "metadata": {},
   "source": [
    "We see that dividing the lowest energy by 2, as we have done in comparing to Taut's results, we get a value of 0.163. The expected value of for the analytic results is 0.175. I am trying to make sure I scale my rhomax value properly prior to this."
   ]
  },
  {
   "cell_type": "code",
   "execution_count": 36,
   "metadata": {
    "collapsed": false
   },
   "outputs": [
    {
     "name": "stdout",
     "output_type": "stream",
     "text": [
      "0.1340179443359375\n"
     ]
    },
    {
     "data": {
      "text/plain": [
       "([0.34191142656886303,\n",
       "  0.46022952063811484,\n",
       "  0.59454058849937719,\n",
       "  0.86279472886398778],\n",
       " array([ 0.34191143+0.j,  0.46022952+0.j,  0.59454059+0.j,  0.86279473+0.j,\n",
       "         1.22776120+0.j]))"
      ]
     },
     "execution_count": 36,
     "metadata": {},
     "output_type": "execute_result"
    }
   ],
   "source": [
    "omegapto5 = interaction_matrix(40,0.05,8/(0.05))\n",
    "compare(omegapto5)"
   ]
  },
  {
   "cell_type": "code",
   "execution_count": 37,
   "metadata": {
    "collapsed": false
   },
   "outputs": [
    {
     "data": {
      "text/plain": [
       "0.17095571328443152"
      ]
     },
     "execution_count": 37,
     "metadata": {},
     "output_type": "execute_result"
    }
   ],
   "source": [
    "0.34191142656886303/2"
   ]
  },
  {
   "cell_type": "markdown",
   "metadata": {},
   "source": [
    "I rescaled rhomax to 8 divded by the value of omega, instead of 10. This is just trying to figure out the numerical pattern for rescaling. I will stick to using 10 for my rhomax value for the sake of continuity with earlier results."
   ]
  },
  {
   "cell_type": "code",
   "execution_count": 38,
   "metadata": {
    "collapsed": false
   },
   "outputs": [
    {
     "name": "stdout",
     "output_type": "stream",
     "text": [
      "0.05906105041503906\n"
     ]
    },
    {
     "data": {
      "text/plain": [
       "([0.10793181717519947,\n",
       "  0.28569133616656212,\n",
       "  0.60791831887495773,\n",
       "  1.0648907748492762],\n",
       " array([ 0.10793182+0.j,  0.28569134+0.j,  0.60791832+0.j,  1.06489077+0.j,\n",
       "         1.65465628+0.j]))"
      ]
     },
     "execution_count": 38,
     "metadata": {},
     "output_type": "execute_result"
    }
   ],
   "source": [
    "omegapt001 = interaction_matrix(40,0.01,10/(0.01))\n",
    "compare(omegapt001)"
   ]
  },
  {
   "cell_type": "code",
   "execution_count": 39,
   "metadata": {
    "collapsed": false
   },
   "outputs": [
    {
     "name": "stdout",
     "output_type": "stream",
     "text": [
      "0.7902100086212158\n"
     ]
    },
    {
     "data": {
      "text/plain": [
       "([2.2399268679658735,\n",
       "  4.1174393365992223,\n",
       "  5.9590685731262019,\n",
       "  7.741921708641911],\n",
       " array([ 2.23992687+0.j,  4.11743934+0.j,  5.95906857+0.j,  7.74192171+0.j,\n",
       "         9.45281960+0.j]))"
      ]
     },
     "execution_count": 39,
     "metadata": {},
     "output_type": "execute_result"
    }
   ],
   "source": [
    "omegapt5 = interaction_matrix(40,0.5,10/(0.5))\n",
    "compare(omegapt5)"
   ]
  },
  {
   "cell_type": "code",
   "execution_count": 40,
   "metadata": {
    "collapsed": false
   },
   "outputs": [
    {
     "name": "stdout",
     "output_type": "stream",
     "text": [
      "1.081238031387329\n"
     ]
    },
    {
     "data": {
      "text/plain": [
       "([4.1020689176256733,\n",
       "  7.9784216514480439,\n",
       "  11.844207893208674,\n",
       "  15.666625238869045],\n",
       " array([  4.10206892+0.j,   7.97842165+0.j,  11.84420789+0.j,\n",
       "         15.66662524+0.j,  19.43180805+0.j]))"
      ]
     },
     "execution_count": 40,
     "metadata": {},
     "output_type": "execute_result"
    }
   ],
   "source": [
    "omega1 = interaction_matrix(40,1,10/(1))\n",
    "compare(omega1)"
   ]
  },
  {
   "cell_type": "code",
   "execution_count": 41,
   "metadata": {
    "collapsed": false
   },
   "outputs": [
    {
     "name": "stdout",
     "output_type": "stream",
     "text": [
      "1.217283010482788\n"
     ]
    },
    {
     "data": {
      "text/plain": [
       "([17.783609695904079,\n",
       "  37.843376167543212,\n",
       "  58.02222919663059,\n",
       "  78.563352727938877],\n",
       " array([  17.78360970+0.j,   37.84337617+0.j,   58.02222920+0.j,\n",
       "          78.56335273+0.j,  100.80242047+0.j]))"
      ]
     },
     "execution_count": 41,
     "metadata": {},
     "output_type": "execute_result"
    }
   ],
   "source": [
    "omega5 = interaction_matrix(40,5,10/5)\n",
    "compare(omega5)"
   ]
  },
  {
   "cell_type": "code",
   "execution_count": null,
   "metadata": {
    "collapsed": true
   },
   "outputs": [],
   "source": []
  }
 ],
 "metadata": {
  "anaconda-cloud": {},
  "kernelspec": {
   "display_name": "Python [default]",
   "language": "python",
   "name": "python3"
  },
  "language_info": {
   "codemirror_mode": {
    "name": "ipython",
    "version": 3
   },
   "file_extension": ".py",
   "mimetype": "text/x-python",
   "name": "python",
   "nbconvert_exporter": "python",
   "pygments_lexer": "ipython3",
   "version": "3.5.2"
  }
 },
 "nbformat": 4,
 "nbformat_minor": 1
}
